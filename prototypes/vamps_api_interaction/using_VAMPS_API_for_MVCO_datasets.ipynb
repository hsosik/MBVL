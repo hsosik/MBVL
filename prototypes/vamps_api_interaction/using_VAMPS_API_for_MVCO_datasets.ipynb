{
 "cells": [
  {
   "cell_type": "markdown",
   "metadata": {},
   "source": [
    "# Interacting with the VAMPS-API\n",
    "## Requirements:\n",
    "* **[Python](https://www.python.org/downloads/)**  \n",
    " * required external packages: BeautifulSoup, lxml, requests\n",
    "* **[Anaconda](https://www.continuum.io/downloads)** \n",
    " * needed to run Jupyter notebook environment  \n",
    "   \n",
    "## This notebook:\n",
    "* Logs into VAMPS account  \n",
    " * if you don't have an account, then [register here](https://vamps2.mbl.edu/users/signup).\n",
    "* Produces a configuration file for a selected project \n",
    " * Default: Eukaryote data from the Martha's Vineyard Coastal Observatory (MVCO), selecting one of several visualizations (default: piecharts)\n",
    "* Displays visualization and saves time-stamped matrix and image files to local computer\n",
    "* Uses geographic metadata for the first project to discover a second project at the same location  \n",
    " * Default: MVCO bacteria data\n",
    "* Modifies the first configuration file to be able to use it for the second project\n",
    "* Displays same visualization and saves files for the second project\n",
    "\n",
    "## To use this notebook:\n",
    "* Run jupyter enviroment locally by typing \"jupyter notebook\" into Terminal\n",
    "* Make sure cells are cleared by clicking \"Cell\" -> \"All Output\" -> \"Clear\"\n",
    "* Press run cell button\n",
    "* Enter information if promtped   \n",
    "* Do not run the next cell if the previous cell has an asterisk next to \"In\" (\"In [*]:\"), this means it is still processing  \n",
    "* When the asterisk turns into any number, you can run the next cell  "
   ]
  },
  {
   "cell_type": "markdown",
   "metadata": {},
   "source": [
    "<h3>Import relevant python packages; Allow both Python 2 and 3</h3>"
   ]
  },
  {
   "cell_type": "code",
   "execution_count": null,
   "metadata": {
    "collapsed": true
   },
   "outputs": [],
   "source": [
    "from __future__ import print_function\n",
    "import os,sys\n",
    "import requests\n",
    "from bs4 import BeautifulSoup\n",
    "import json, string, getpass\n",
    "\n",
    "try:\n",
    "    input = raw_input  \n",
    "except NameError: # Python 3\n",
    "    pass"
   ]
  },
  {
   "cell_type": "markdown",
   "metadata": {},
   "source": [
    "<h3>Gets VAMPS username and password, then attempts login to VAMPS</h3>"
   ]
  },
  {
   "cell_type": "code",
   "execution_count": null,
   "metadata": {
    "collapsed": false
   },
   "outputs": [],
   "source": [
    "# get VAMPS username and password\n",
    "vamps_username = input(\"Enter your VAMPS username: \")\n",
    "vamps_password = getpass.getpass(\"Enter your VAMPS password: \")\n",
    "\n",
    "if vamps_username == 'guest':\n",
    "    raise ValueError('please register instead of using guest account')\n",
    "\n",
    "# vamps:             https://vamps2.mbl.edu\n",
    "# vampsdev (private) http://vampsdev.jbpc-np.mbl.edu:8124 \n",
    "# localhost:         http://localhost:3000\n",
    "VAMPS_HOST = 'https://vamps2.mbl.edu'\n",
    "\n",
    "vamps_session = requests.Session()\n",
    "\n",
    "def vamps_post(url_suffix, data={}, timeout=15):\n",
    "    url = VAMPS_HOST + url_suffix\n",
    "    return vamps_session.post(url, data=data, timeout=timeout)\n",
    "\n",
    "# attempt login to VAMPS\n",
    "r = vamps_post('/users/login', data={\n",
    "        'username': vamps_username,\n",
    "        'password': vamps_password\n",
    "    })\n",
    "\n",
    "# report login status\n",
    "if r.url == VAMPS_HOST + '/users/login':\n",
    "    raise ValueError('Login not successful')\n",
    "elif r.url == VAMPS_HOST + '/':\n",
    "    print('Login successful')\n",
    "else:\n",
    "    raise ValueError('unexpected server response')"
   ]
  },
  {
   "cell_type": "markdown",
   "metadata": {},
   "source": [
    "<h3>Option to upload an existing config file or see list of datasets</h3>"
   ]
  },
  {
   "cell_type": "code",
   "execution_count": null,
   "metadata": {
    "collapsed": false
   },
   "outputs": [],
   "source": [
    "def input_yn(msg):\n",
    "    msg += ' (\"Y\" or \"N\"): '\n",
    "    resp = input(msg)\n",
    "    return resp.lower()[:1] == 'y'\n",
    "\n",
    "upload = input_yn(\"Do you want to use an already existing config file?\")\n",
    "\n",
    "# to upload config: \n",
    "if upload:\n",
    "    file = input('Enter JSON Config File: ')\n",
    "    with open(file) as f:        \n",
    "        config = json.load(f)\n",
    "    id_list = False\n",
    "else:\n",
    "    id_list = input_yn(\"Do you want to search through datasets or see all you have access to?\")"
   ]
  },
  {
   "cell_type": "markdown",
   "metadata": {},
   "source": [
    "<h3>If selected, search through datasets</h3>"
   ]
  },
  {
   "cell_type": "code",
   "execution_count": null,
   "metadata": {
    "collapsed": false
   },
   "outputs": [],
   "source": [
    "if id_list:\n",
    "    search = input(\"Enter dataset you are looking for to get a list of matches: \")\n",
    "    data = {\n",
    "   'search_string': search,  # If not empty will search for projects with string in \n",
    "                             # project name, title or description (case insensitive)\n",
    "   # Uncomment below line to include project information\n",
    "   #'include_info':''        # if present, data will include project information\n",
    "    }\n",
    "    r = vamps_post('/api/find_user_projects', data)\n",
    "    result = r.json()\n",
    "    print(result)"
   ]
  },
  {
   "cell_type": "markdown",
   "metadata": {},
   "source": [
    "<h3>If a configuration file was not uploaded, set config using MVCO eukaryote data as default project</h3>"
   ]
  },
  {
   "cell_type": "code",
   "execution_count": null,
   "metadata": {
    "collapsed": true
   },
   "outputs": [],
   "source": [
    "if not upload:\n",
    "    # default config (if not uploaded); Emily B.'s MVCO eukaryote data\n",
    "    config = {\n",
    "        \"api\":\"1\",\n",
    "        \"source\":\"VAMPS-API\",\n",
    "        \"update_data\":1,\n",
    "        \"normalization\":\"none\",               # none, maximum, frequency             \n",
    "        \"selected_distance\":\"morisita-horn\",  # morisita-horn, jaccard, kulczynski, canberra bray-curtis\n",
    "        \"tax_depth\":\"family\",                  # domain, phylum, klass, order, family, genus, species, strain\n",
    "        \"domains\":[\"Eukarya\"],                #[\"Archaea\",\"Bacteria\",\"Eukarya\",\"Organelle\",\"Unknown\"] \n",
    "        \"include_nas\":\"yes\",                  # yes or no             \n",
    "        \"min_range\":0,                        # integer 0-99\n",
    "        \"max_range\":100,                      # integer 1-100\n",
    "\n",
    "        # Must be a valid project - with correct permissions for the above user. \n",
    "        # Default is Emily B.'s MVCO eukaryote data\n",
    "        'project':'MVCO_ciliate_timeseries2',   \n",
    "        \n",
    "        # Currently avalable: \"dheatmap\", \"piecharts\", \"barcharts\", \"counts_matrix\", \"metadata_csv\", \"adiversity\", \"fheatmap\", \"dendrogram\" \n",
    "        # Default is Alpha Diversity visualization\n",
    "        'image':'piecharts'\n",
    "        } "
   ]
  },
  {
   "cell_type": "markdown",
   "metadata": {},
   "source": [
    "<h3>Get and display dataset IDs for selected project</h3>"
   ]
  },
  {
   "cell_type": "code",
   "execution_count": null,
   "metadata": {
    "collapsed": false
   },
   "outputs": [],
   "source": [
    "# get project ids:\n",
    "r = vamps_post('/api/get_dids_from_project', data=config)\n",
    "config['ds_order'] = r.json()\n",
    "print(config['ds_order'])"
   ]
  },
  {
   "cell_type": "markdown",
   "metadata": {},
   "source": [
    "<h3>Create remote configuration and get timestamp (file_prefix)</h3>"
   ]
  },
  {
   "cell_type": "code",
   "execution_count": null,
   "metadata": {
    "collapsed": false
   },
   "outputs": [],
   "source": [
    "# Get timestamp to be used as a prefix for files:\n",
    "r = vamps_post('/visuals/view_selection', data=config)\n",
    "soup = BeautifulSoup(r.text, \"lxml\")  # html5lib  lxml html.parser\n",
    "\n",
    "ts = soup.find(id=\"ts_for_bs\").string\n",
    "print(\"Timestamp/file prefix:\",ts)"
   ]
  },
  {
   "cell_type": "markdown",
   "metadata": {},
   "source": [
    "<h3>Save matrix file which is integral to VAMPS images</h3>"
   ]
  },
  {
   "cell_type": "code",
   "execution_count": null,
   "metadata": {
    "collapsed": false
   },
   "outputs": [],
   "source": [
    "def vamps_get_file(filename, local_file=None):\n",
    "    if local_file is None:\n",
    "        local_file = filename\n",
    "    url = VAMPS_HOST + '/' + filename\n",
    "    r = requests.get(url, stream=True)\n",
    "    r.raise_for_status()\n",
    "    with open(local_file, 'wb') as fout:\n",
    "        for block in r.iter_content(1024):\n",
    "           fout.write(block)\n",
    "        \n",
    "biom_matrix_file = ts+'_count_matrix.biom'\n",
    "vamps_get_file(biom_matrix_file)"
   ]
  },
  {
   "cell_type": "markdown",
   "metadata": {},
   "source": [
    "<h3>Save VAMPS visualization output file</h3>"
   ]
  },
  {
   "cell_type": "code",
   "execution_count": null,
   "metadata": {
    "collapsed": false
   },
   "outputs": [],
   "source": [
    "r = vamps_post('/api/create_image', data=config, timeout=30)\n",
    "\n",
    "try:\n",
    "    result = r.json()\n",
    "except:\n",
    "    raise ValueError(r.text())\n",
    "    \n",
    "local_filename = result['filename']\n",
    "return_result = result['html']\n",
    "print(local_filename)\n",
    "\n",
    "vamps_get_file(local_filename)\n",
    "\n",
    "print('Done writing local file:',local_filename)"
   ]
  },
  {
   "cell_type": "markdown",
   "metadata": {},
   "source": [
    "<h3>Show visualization output for first dataset</h3>"
   ]
  },
  {
   "cell_type": "code",
   "execution_count": null,
   "metadata": {
    "collapsed": false
   },
   "outputs": [],
   "source": [
    "from IPython.core.display import display, HTML\n",
    "\n",
    "def display_viz(html):\n",
    "    style = \"<style>.container { width:100% !important; }</style>\"\n",
    "    return HTML(style + html)\n",
    "\n",
    "display_viz(return_result)"
   ]
  },
  {
   "cell_type": "markdown",
   "metadata": {},
   "source": [
    "<h3>Get project Metadata</h3>"
   ]
  },
  {
   "cell_type": "code",
   "execution_count": null,
   "metadata": {
    "collapsed": false
   },
   "outputs": [],
   "source": [
    "data = {\"project\": config['project']}\n",
    "r = vamps_post('/api/get_metadata_from_project', timeout=15, data=data)  \n",
    "result = r.json()\n",
    "print(\"Loaded metadata\")"
   ]
  },
  {
   "cell_type": "markdown",
   "metadata": {},
   "source": [
    "<h3>Format and show sample of Metadata, saving Latitude and Longitude information</h3>"
   ]
  },
  {
   "cell_type": "code",
   "execution_count": null,
   "metadata": {
    "collapsed": false
   },
   "outputs": [],
   "source": [
    "lat = 0\n",
    "lon = 0\n",
    "\n",
    "# get lat/lon\n",
    "for ids in result:\n",
    "    for mdname in result[ids]:\n",
    "        if mdname == \"longitude\":\n",
    "            lon = float(result[ids][mdname])\n",
    "        elif mdname == \"latitude\":\n",
    "            lat = float(result[ids][mdname]) \n",
    "\n",
    "def show_example_metadata(result, n=3):\n",
    "    for dsid in list(result)[:n]:\n",
    "        md = result[dsid]\n",
    "        for mdname in md:\n",
    "            print('{}: {}'.format(mdname, md[mdname]))\n",
    "        print()\n",
    "\n",
    "show_example_metadata(result)"
   ]
  },
  {
   "cell_type": "markdown",
   "metadata": {},
   "source": [
    "### Use first project latitude/longitude metadata to search for next project name\n",
    "### If MVCO Bacteria dataset is found, change config file"
   ]
  },
  {
   "cell_type": "code",
   "execution_count": null,
   "metadata": {
    "collapsed": false
   },
   "outputs": [],
   "source": [
    "half_size = 0.1\n",
    "\n",
    "bounding_box = {\n",
    "    'nw_lat': lat + half_size if lat > 0 else lat - half_size,\n",
    "    'nw_lon': lon + half_size if lon > 0 else lon - half_size,\n",
    "    'se_lat': lat - half_size if lat > 0 else lat + half_size,\n",
    "    'se_lon': lon - half_size if lon > 0 else lon + half_size,\n",
    "}\n",
    "\n",
    "found = False\n",
    "\n",
    "data = bounding_box\n",
    "r = vamps_post('/api/find_projects_in_geo_area', timeout=15, data=data)  \n",
    "result = r.json()\n",
    "\n",
    "for sets in result:\n",
    "    if sets == 'AFP_MVCO_Bv6':\n",
    "        print(\"Found second project dataset using latitude/longitude data\")\n",
    "        # if MVCO bacteria data is found, change config project\n",
    "        config['project'] = sets\n",
    "        found = True\n",
    "        break"
   ]
  },
  {
   "cell_type": "markdown",
   "metadata": {},
   "source": [
    "### If second project wasn't found using latitude/longitude metadata, use the same configuration file and modify it as necessary"
   ]
  },
  {
   "cell_type": "code",
   "execution_count": null,
   "metadata": {
    "collapsed": true
   },
   "outputs": [],
   "source": [
    "# change config file project to second project if not found using lat/lon metadata\n",
    "if not found:\n",
    "    config['project'] = 'AFP_MVCO_Bv6'\n",
    "config['domains'] = [\"Bacteria\"]\n",
    "config[\"tax_depth\"] = \"family\""
   ]
  },
  {
   "cell_type": "markdown",
   "metadata": {},
   "source": [
    "### Now use the same method as before to produce the visualization, first getting and displaying dataset IDs\n",
    "### Exclude 4 datasets from second project"
   ]
  },
  {
   "cell_type": "code",
   "execution_count": null,
   "metadata": {
    "collapsed": false
   },
   "outputs": [],
   "source": [
    "# get project ids:\n",
    "r = vamps_post('/api/get_dids_from_project', timeout=15, data=config)  \n",
    "config['ds_order'] = r.json()\n",
    "\n",
    "# exclude 4 datasets\n",
    "if config['project'] == 'AFP_MVCO_Bv6':\n",
    "    exclude = [336408, 336409, 336407, 336410]\n",
    "    config['ds_order'] = [dsid for dsid in config['ds_order'] if dsid not in exclude]"
   ]
  },
  {
   "cell_type": "markdown",
   "metadata": {},
   "source": [
    "<h3>Create remote configuration and get timestamp (file_prefix)</h3>"
   ]
  },
  {
   "cell_type": "code",
   "execution_count": null,
   "metadata": {
    "collapsed": false
   },
   "outputs": [],
   "source": [
    "# Get timestamp (filename prefix):\n",
    "r = vamps_post('/visuals/view_selection', timeout=15, data=config)\n",
    "soup = BeautifulSoup(r.text, \"lxml\")  # html5lib  lxml html.parser\n",
    "\n",
    "ts = soup.find(id=\"ts_for_bs\").string\n",
    "print(\"Timestamp/file prefix:\",ts)"
   ]
  },
  {
   "cell_type": "markdown",
   "metadata": {},
   "source": [
    "<h3>Save matrix file which is integral to VAMPS images</h3>"
   ]
  },
  {
   "cell_type": "code",
   "execution_count": null,
   "metadata": {
    "collapsed": true
   },
   "outputs": [],
   "source": [
    "biom_matrix_file = ts+'_count_matrix.biom'\n",
    "\n",
    "vamps_get_file(biom_matrix_file)"
   ]
  },
  {
   "cell_type": "markdown",
   "metadata": {},
   "source": [
    "<h3>Save image file</h3>"
   ]
  },
  {
   "cell_type": "code",
   "execution_count": null,
   "metadata": {
    "collapsed": false
   },
   "outputs": [],
   "source": [
    "r = vamps_post('/api/create_image', timeout=30, data=config)\n",
    "\n",
    "try:\n",
    "    result = r.json()\n",
    "except:\n",
    "    raise ValueError(r.text)\n",
    "\n",
    "local_filename = result['filename']\n",
    "return_result = result['html']\n",
    "print(local_filename)\n",
    "\n",
    "vamps_get_file(local_filename)\n",
    "\n",
    "print('Done writing local file: {}'.format(local_filename))"
   ]
  },
  {
   "cell_type": "markdown",
   "metadata": {},
   "source": [
    "<h3>Show visualization output for second project</h3>"
   ]
  },
  {
   "cell_type": "code",
   "execution_count": null,
   "metadata": {
    "collapsed": false
   },
   "outputs": [],
   "source": [
    "display_viz(return_result)"
   ]
  },
  {
   "cell_type": "markdown",
   "metadata": {},
   "source": [
    "<h3>Get project Metadata</h3>"
   ]
  },
  {
   "cell_type": "code",
   "execution_count": null,
   "metadata": {
    "collapsed": false
   },
   "outputs": [],
   "source": [
    "data = {\"project\": config['project']}\n",
    "r = vamps_post('/api/get_metadata_from_project', timeout=15, data=data)  \n",
    "result = r.json()\n",
    "print(\"Loaded metadata\")"
   ]
  },
  {
   "cell_type": "markdown",
   "metadata": {},
   "source": [
    "<h3>Format and show sample of Metadata</h3>"
   ]
  },
  {
   "cell_type": "code",
   "execution_count": null,
   "metadata": {
    "collapsed": false
   },
   "outputs": [],
   "source": [
    "show_example_metadata(result)"
   ]
  }
 ],
 "metadata": {
  "anaconda-cloud": {},
  "kernelspec": {
   "display_name": "Python [conda env:vamps_api]",
   "language": "python",
   "name": "conda-env-vamps_api-py"
  },
  "language_info": {
   "codemirror_mode": {
    "name": "ipython",
    "version": 3
   },
   "file_extension": ".py",
   "mimetype": "text/x-python",
   "name": "python",
   "nbconvert_exporter": "python",
   "pygments_lexer": "ipython3",
   "version": "3.6.2"
  }
 },
 "nbformat": 4,
 "nbformat_minor": 2
}
